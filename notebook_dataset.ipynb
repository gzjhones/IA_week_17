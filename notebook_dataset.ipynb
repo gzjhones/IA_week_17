{
 "cells": [
  {
   "cell_type": "code",
   "execution_count": null,
   "metadata": {},
   "outputs": [
    {
     "name": "stdout",
     "output_type": "stream",
     "text": [
      "  Departamento   Año  Mes  Consumo (m³)  Temperatura promedio mensual (°C)  \\\n",
      "0          A01  2014    1         31.45                               3.57   \n",
      "1          A01  2014    2         37.55                              -1.41   \n",
      "2          A01  2014    3         28.90                              14.09   \n",
      "3          A01  2014    4         34.91                              -3.89   \n",
      "4          A01  2014    5         34.44                               3.14   \n",
      "\n",
      "   Número de ocupantes  Superficie (m²)  Piso Estado de mantenimiento  \\\n",
      "0                    3               54     0                   Bueno   \n",
      "1                    3               54     0                   Bueno   \n",
      "2                    3               54     0                   Bueno   \n",
      "3                    3               54     0                   Bueno   \n",
      "4                    3               54     0                   Bueno   \n",
      "\n",
      "   Costo (BOB)  \n",
      "0        18.87  \n",
      "1        22.53  \n",
      "2        17.34  \n",
      "3        20.94  \n",
      "4        20.66  \n"
     ]
    }
   ],
   "source": [
    "!pip install pandas numpy matplotlib seaborn scikit-learn\n",
    "\n",
    "import pandas as pd\n",
    "import numpy as np\n",
    "import random\n",
    "\n",
    "# Configuración básica\n",
    "random.seed(42)\n",
    "np.random.seed(42)\n",
    "\n",
    "# Configuración de los datos\n",
    "departamentos = [f\"{chr(65+i)}{j:02d}\" for i in range(4) for j in range(1, 11)]  # A01-A10, B01-B10, ...\n",
    "años = range(2014, 2024)\n",
    "meses = range(1, 13)\n",
    "tarifa_gas_bolivianos = 0.6  # Tarifa fija de gas en BOB por m³\n",
    "\n",
    "# Generar datos simulados\n",
    "data = []\n",
    "for depto in departamentos:\n",
    "    superficie = random.randint(40, 120)  # m²\n",
    "    piso = int(depto[1])  # Determinar el piso basado en el número\n",
    "    estado_mantenimiento = random.choice(['Bueno', 'Regular', 'Malo'])\n",
    "    ocupantes = random.randint(1, 5)\n",
    "    \n",
    "    for año in años:\n",
    "        for mes in meses:\n",
    "            temp_promedio = random.uniform(-5, 30)  # Temperatura aleatoria en °C\n",
    "            consumo = (\n",
    "                (superficie / 10) + \n",
    "                (5 * ocupantes) + \n",
    "                random.uniform(-3, 3) + \n",
    "                (30 - temp_promedio) * 0.5\n",
    "            )\n",
    "            consumo = max(consumo, 0)  # Evitar valores negativos\n",
    "            costo = consumo * tarifa_gas_bolivianos  # Costo en BOB\n",
    "            data.append([depto, año, mes, round(consumo, 2), round(temp_promedio, 2), ocupantes, superficie, piso, estado_mantenimiento, round(costo, 2)])\n",
    "\n",
    "# Crear DataFrame\n",
    "columns = ['Departamento', 'Año', 'Mes', 'Consumo (m³)', 'Temperatura promedio mensual (°C)', \n",
    "           'Número de ocupantes', 'Superficie (m²)', 'Piso', 'Estado de mantenimiento', 'Costo (BOB)']\n",
    "df = pd.DataFrame(data, columns=columns)\n",
    "\n",
    "# Guardar dataset en archivo CSV\n",
    "df.to_csv('consumo_gas_departamentos_con_costo.csv', index=False)\n",
    "\n",
    "# Mostrar un preview del dataset\n",
    "print(df.head())\n"
   ]
  }
 ],
 "metadata": {
  "kernelspec": {
   "display_name": "unifranz-lab",
   "language": "python",
   "name": "python3"
  },
  "language_info": {
   "codemirror_mode": {
    "name": "ipython",
    "version": 3
   },
   "file_extension": ".py",
   "mimetype": "text/x-python",
   "name": "python",
   "nbconvert_exporter": "python",
   "pygments_lexer": "ipython3",
   "version": "3.9.20"
  }
 },
 "nbformat": 4,
 "nbformat_minor": 2
}
